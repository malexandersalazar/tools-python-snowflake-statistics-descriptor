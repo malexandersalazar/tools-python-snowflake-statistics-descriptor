{
 "cells": [
  {
   "cell_type": "code",
   "execution_count": null,
   "metadata": {},
   "outputs": [],
   "source": [
    "import appsettings"
   ]
  },
  {
   "cell_type": "code",
   "execution_count": null,
   "metadata": {},
   "outputs": [],
   "source": [
    "USER = appsettings.USER\n",
    "ACCOUNT = appsettings.ACCOUNT\n",
    "WAREHOUSE = appsettings.WAREHOUSE\n",
    "DATABASE = 'SNOWFLAKE_SAMPLE_DATA'\n",
    "SCHEMA = 'TPCH_SF100'\n",
    "ROWS = 10000\n",
    "LEVEL = 's'\n",
    "TABLE = 'LINEITEM'\n",
    "ASSOCIATIONS = False\n",
    "OPEN_BROWSER = False"
   ]
  },
  {
   "cell_type": "code",
   "execution_count": null,
   "metadata": {},
   "outputs": [],
   "source": [
    "import os\n",
    "import snowflake.connector\n",
    "import pandas as pd\n",
    "import sweetviz as sv\n",
    "import gc"
   ]
  },
  {
   "cell_type": "code",
   "execution_count": null,
   "metadata": {},
   "outputs": [],
   "source": [
    "ctx = snowflake.connector.connect(\n",
    "    user=USER,\n",
    "    account=ACCOUNT,\n",
    "    authenticator='externalbrowser'\n",
    ")"
   ]
  },
  {
   "cell_type": "code",
   "execution_count": null,
   "metadata": {},
   "outputs": [],
   "source": [
    "ctx.execute_string(f\"USE WAREHOUSE {WAREHOUSE}\", return_cursors=False)"
   ]
  },
  {
   "cell_type": "code",
   "execution_count": null,
   "metadata": {},
   "outputs": [],
   "source": [
    "# SHOW TABLES COMMAND RESULT EXAMPLE (SNOWFLAKE AS 2023-05)\n",
    "#\n",
    "# created_on\t                name        database_name\t    schema_name\t                kind    (more columns...)\n",
    "# 2023-03-21 16:25:59.773 -0700\tMY_TABLE_1\tMY_DATABASE_1\t    CURATED_DATA_STAGING_TEST\tTABLE\n",
    "# 2023-03-21 16:23:13.464 -0700\tMY_TABLE_2\tMY_DATABASE_2       CURATED_DATA_STAGING_TEST\tTABLE\n",
    "# 2023-05-04 10:43:11.121 -0700\tMY_TABLE_3\tMY_DATABASE_3       CURATED_DATA_STAGING_TEST\tTABLE"
   ]
  },
  {
   "cell_type": "code",
   "execution_count": null,
   "metadata": {},
   "outputs": [],
   "source": [
    "tables = []\n",
    "if(LEVEL=='s'):\n",
    "    schema_cur = ctx.cursor().execute(f\"SHOW TABLES IN {DATABASE}.{SCHEMA}\")\n",
    "    for (created_on,name,database_name,schema_name,kind,comment,cluster_by,rows,bytes,owner,retention_time,automatic_clustering,change_tracking,search_optimization,search_optimization_progress,search_optimization_bytes,is_external) in schema_cur:\n",
    "        tables.append((f'{database_name}.{schema_name}.{name}',comment,rows,bytes))\n",
    "else:\n",
    "    ctx.execute_string(f\"USE DATABASE {DATABASE}\", return_cursors=False)\n",
    "\n",
    "    table_query = f\"SELECT ROW_COUNT, BYTES, COMMENT FROM INFORMATION_SCHEMA.TABLES WHERE TABLE_TYPE='BASE TABLE' AND TABLE_SCHEMA='{SCHEMA}' AND TABLE_NAME='{TABLE}'\"\n",
    "    table_cur = ctx.cursor().execute(table_query)\n",
    "    (rows,bytes,comment) = table_cur.fetchone()\n",
    "    tables.append((f'{DATABASE}.{SCHEMA}.{TABLE}',comment,rows,bytes))"
   ]
  },
  {
   "cell_type": "code",
   "execution_count": null,
   "metadata": {},
   "outputs": [],
   "source": [
    "if not os.path.exists('obj'):\n",
    "    os.mkdir('obj')\n",
    "\n",
    "info_arr = []\n",
    "\n",
    "for (table_name,comment,rows,bytes) in tables:\n",
    "    print(f'Loading {table_name}...')\n",
    "\n",
    "    sheet_name = table_name.split('.')[-1]\n",
    "\n",
    "    sample_query = f'SELECT * FROM {table_name} SAMPLE BERNOULLI ({ROWS} ROWS)'\n",
    "    sample_cur = ctx.cursor().execute(sample_query)\n",
    "    sample_df = pd.DataFrame.from_records(\n",
    "        iter(sample_cur), columns=[x[0] for x in sample_cur.description])\n",
    "\n",
    "    is_clustering_eligible = 'YES' if bytes / 1024 / 1024 / 1024 / 1024 >= 1 else 'NO'\n",
    "    info_arr.append([table_name, comment, rows, bytes, is_clustering_eligible, len(sample_df)])\n",
    "\n",
    "    analysis = sv.analyze(sample_df, pairwise_analysis=(\"on\" if ASSOCIATIONS else \"off\"))\n",
    "    analysis.show_html(f'obj/{sheet_name}.html', open_browser=OPEN_BROWSER)\n",
    "\n",
    "    del sample_df\n",
    "    gc.collect()"
   ]
  },
  {
   "cell_type": "code",
   "execution_count": null,
   "metadata": {},
   "outputs": [],
   "source": [
    "eda_info_df = pd.DataFrame(info_arr, columns = ['NAME','COMMENT','TABLE ROWS','TABLE BYTES','CLUSTERING ELIGIBLE','SAMPLE ROWS'])\n",
    "excel_writer = pd.ExcelWriter(f'obj/{SCHEMA}_EDA_INFO.xlsx', engine='xlsxwriter')\n",
    "eda_info_df.to_excel(excel_writer, sheet_name=SCHEMA, index=False)\n",
    "worksheet = excel_writer.sheets[SCHEMA]\n",
    "for idx, col in enumerate(eda_info_df):  # Loop through all columns\n",
    "    series = eda_info_df[col]\n",
    "    max_len = max((\n",
    "        series.astype(str).str.len().max(),  # Len of largest item\n",
    "        len(str(series.name))  # Len of column name/header\n",
    "        )) + 9  # Adding a little extra space\n",
    "    worksheet.set_column(idx, idx, max_len)  # Set column width\n",
    "excel_writer.close()"
   ]
  }
 ],
 "metadata": {
  "kernelspec": {
   "display_name": "datafabric-dev-env",
   "language": "python",
   "name": "python3"
  },
  "language_info": {
   "codemirror_mode": {
    "name": "ipython",
    "version": 3
   },
   "file_extension": ".py",
   "mimetype": "text/x-python",
   "name": "python",
   "nbconvert_exporter": "python",
   "pygments_lexer": "ipython3",
   "version": "3.7.16"
  },
  "orig_nbformat": 4,
  "vscode": {
   "interpreter": {
    "hash": "06fd14dd0464832b5d48561070e33a75f30377a884f82ade456f68b55551612f"
   }
  }
 },
 "nbformat": 4,
 "nbformat_minor": 2
}
